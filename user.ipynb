{
 "cells": [
  {
   "cell_type": "code",
   "execution_count": 10,
   "metadata": {},
   "outputs": [],
   "source": [
    "import pandas as pd\n",
    "import seaborn as sns\n",
    "import matplotlib.pyplot as plt"
   ]
  },
  {
   "cell_type": "code",
   "execution_count": 25,
   "metadata": {},
   "outputs": [
    {
     "name": "stdout",
     "output_type": "stream",
     "text": [
      "Liste initiale des utilisateurs :\n",
      "  user_name   password              email\n",
      "0     admin  adminpass  admin@example.com\n",
      "1      john   johnpass   john@example.com\n",
      "2      jane   janepass   jane@example.com\n",
      "L'utilisateur bryan n'existe pas.❌\n",
      "Liste des utilisateurs après suppression :\n",
      "  user_name   password              email\n",
      "0     admin  adminpass  admin@example.com\n",
      "1      john   johnpass   john@example.com\n",
      "2      jane   janepass   jane@example.com\n"
     ]
    }
   ],
   "source": [
    "users = pd.DataFrame({\n",
    "    'user_name': ['admin', 'john', 'jane'],\n",
    "    'password': ['adminpass', 'johnpass', 'janepass'],\n",
    "    'email': ['admin@example.com', 'john@example.com', 'jane@example.com']\n",
    "})\n",
    "\n",
    "print(\"Liste initiale des utilisateurs :\")\n",
    "print(users)\n",
    "\n",
    "#suppression d'un utilisateur :\n",
    "def delete_user():\n",
    "    global users\n",
    "    user_name = input(\"Entrez le nom de l'utilisateur que vous souhaitez supprimer:\")\n",
    "    if user_name in users['user_name'].values:\n",
    "        users = users [users['user_name'] != user_name]\n",
    "        print(f\"Utilisateur {user_name} supprimé avec succès.✅\")\n",
    "    else:\n",
    "        print(f\"L'utilisateur {user_name} n'existe pas.❌\")\n",
    "    return users\n",
    "\n",
    "users = delete_user()\n",
    "\n",
    "# Afficher la liste des utilisateurs après suppression\n",
    "print(\"Liste des utilisateurs après suppression :\")\n",
    "print(users)"
   ]
  },
  {
   "cell_type": "code",
   "execution_count": null,
   "metadata": {},
   "outputs": [],
   "source": [
    "users = pd.DataFrame({\n",
    "    'user_name': ['admin', 'john', 'jane'],\n",
    "    'password': ['adminpass', 'johnpass', 'janepass'],\n",
    "    'email': ['admin@example.com', 'john@example.com', 'jane@example.com']\n",
    "})\n",
    "\n",
    "print(\"Liste initiale des utilisateurs :\")\n",
    "print(users)\n",
    "\n",
    "def update_user():\n",
    "    user_name = input(\"Entrez le nom de l'utilisateur que vous souhaitez modifier:\")\n",
    "    if user_name in users['user_name'].values:\n",
    "        email = input (\"Saissez le nouvel email:\")\n",
    "        password = input(\"Saissez le nouveau mot de passe:\")\n",
    "\n",
    "        users.loc[users['username'] == user_name, 'email'] = email\n",
    "        users.loc[users['username'] == user_name, 'password']\n",
    "\n"
   ]
  }
 ],
 "metadata": {
  "kernelspec": {
   "display_name": ".venv",
   "language": "python",
   "name": "python3"
  },
  "language_info": {
   "codemirror_mode": {
    "name": "ipython",
    "version": 3
   },
   "file_extension": ".py",
   "mimetype": "text/x-python",
   "name": "python",
   "nbconvert_exporter": "python",
   "pygments_lexer": "ipython3",
   "version": "3.12.4"
  }
 },
 "nbformat": 4,
 "nbformat_minor": 2
}
